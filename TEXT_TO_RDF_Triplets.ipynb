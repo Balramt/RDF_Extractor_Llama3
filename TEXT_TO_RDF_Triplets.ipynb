{
 "cells": [
  {
   "cell_type": "code",
   "execution_count": 2,
   "id": "8960e772-e5ec-43e6-a38a-b9e4840a2997",
   "metadata": {},
   "outputs": [],
   "source": [
    "from langchain.llms import Ollama"
   ]
  },
  {
   "cell_type": "code",
   "execution_count": 17,
   "id": "6fd852c1-7a32-4c08-a623-093b060fa52b",
   "metadata": {},
   "outputs": [],
   "source": [
    "# Configuration\n",
    "LOCAL_MODEL = \"llama3:latest\"\n",
    "RDF_FILEPATH = r\"D:\\New folder\\RDF_Extractor_Llama3\\Barack-Obama.txt\"  # Update this with your Text file path"
   ]
  },
  {
   "cell_type": "code",
   "execution_count": 18,
   "id": "1e6071e3-3b00-4f20-a346-42afd00a581d",
   "metadata": {},
   "outputs": [],
   "source": [
    "# Initialize the language model\n",
    "llm = Ollama(base_url=\"http://localhost:11434\", model=LOCAL_MODEL, verbose=True)"
   ]
  },
  {
   "cell_type": "code",
   "execution_count": 19,
   "id": "04ba1197-bfb8-4706-b0de-87d34657ab00",
   "metadata": {},
   "outputs": [
    {
     "name": "stdout",
     "output_type": "stream",
     "text": [
      "Prompt:\n",
      "\n",
      "Here is the RDF data: \n",
      "\n",
      "Barack Hussein Obama II[a] (born August 4, 1961) is an American politician who served as the 44th president of the United States from 2009 to 2017. As a member of the Democratic Party, he was the first African-American president in U.S. history. Obama previously served as a U.S. senator representing Illinois from 2005 to 2008 and as an Illinois state senator from 1997 to 2004.\n",
      "Obama was born in Honolulu, Hawaii. He graduated from Columbia University in 1983 with a Bachelor of Arts degree in political science and later worked as a community organizer in Chicago. In 1988, Obama enrolled in Harvard Law School, where he was the first black president of the Harvard Law Review. He became a civil rights attorney and an academic, teaching constitutional law at the University of Chicago Law School from 1992 to 2004. He also went into elective politics; Obama represented the 13th district in the Illinois Senate from 1997 until 2004, when he successfully ran for the U.S. Senate. In the 2008 presidential election, after a close primary campaign against Hillary Clinton, he was nominated by the Democratic Party for president. Obama selected Joe Biden as his running mate and defeated Republican nominee John McCain.\n",
      "\n",
      "\n",
      "Please parse and extract RDF-like triplets from the text. For each identified triplet:\n",
      "1.Extracted_RDF_Set: (Subject, Predicate, Object)\n",
      "2. Identify the subject, predicate, and object.\n",
      "3. Format the output as RDF triplets with appropriate URIs and literals.\n",
      "4. Handle various types of information, including names, locations, dates, and numerical values.\n",
      "\n",
      "Use the following guidelines:\n",
      "- Format the output as follows for each triplet:\n",
      "  **Triplet N**\n",
      "  - Extracted_RDF_Set: (Subject, Predicate, Object)\n",
      "  - Subject: [URL or Literal]\n",
      "  - Predicate: [URL]\n",
      "  - Object: [URL or Literal]\n",
      "\n",
      "Examples:\n",
      "Text: \"Obama was born in Honolulu, Hawaii. He graduated from Columbia University in 1983.\"\n",
      "\n",
      "Outputs:\n",
      "**Triplet 1**\n",
      "- Extracted_RDF_Set: (Obama, was born in, Honolulu)\n",
      "- Subject: http://example.org/person/BarackObama\n",
      "- Predicate: http://xmlns.com/foaf/0.1/birthPlace\n",
      "- Object: http://example.org/location/Honolulu\n",
      "\n",
      "**Triplet 2**\n",
      "- Extracted_RDF_Set: (Obama, graduated from, Columbia University)\n",
      "- Subject: http://example.org/person/BarackObama\n",
      "- Predicate: http://xmlns.com/foaf/0.1/alumniOf\n",
      "- Object: http://example.org/university/ColumbiaUniversity\n",
      "\n",
      "**Triplet 3**\n",
      "- Extracted_RDF_Set: (Obama, graduated in, 1983)\n",
      "- Subject: http://example.org/person/BarackObama\n",
      "- Predicate: http://example.org/ontology/graduationYear\n",
      "- Object: \"1983\"\n",
      "\n",
      "Ensure to handle dates and numbers appropriately as literals or values in the RDF output.\n",
      "\n"
     ]
    }
   ],
   "source": [
    "# Read RDF file content\n",
    "with open(RDF_FILEPATH, 'r') as file:\n",
    "    rdf_data = file.read()\n",
    "\n",
    "# Construct the prompt\n",
    "prompt = f\"\"\"\n",
    "Here is the RDF data: \n",
    "\n",
    "{rdf_data}\n",
    "\n",
    "Please parse and extract RDF-like triplets from the text. For each identified triplet:\n",
    "1.Extracted_RDF_Set: (Subject, Predicate, Object)\n",
    "2. Identify the subject, predicate, and object.\n",
    "3. Format the output as RDF triplets with appropriate URIs and literals.\n",
    "4. Handle various types of information, including names, locations, dates, and numerical values.\n",
    "\n",
    "Use the following guidelines:\n",
    "- Format the output as follows for each triplet:\n",
    "  **Triplet N**\n",
    "  - Extracted_RDF_Set: (Subject, Predicate, Object)\n",
    "  - Subject: [URL or Literal]\n",
    "  - Predicate: [URL]\n",
    "  - Object: [URL or Literal]\n",
    "\n",
    "Examples:\n",
    "Text: \"Obama was born in Honolulu, Hawaii. He graduated from Columbia University in 1983.\"\n",
    "\n",
    "Outputs:\n",
    "**Triplet 1**\n",
    "- Extracted_RDF_Set: (Obama, was born in, Honolulu)\n",
    "- Subject: http://example.org/person/BarackObama\n",
    "- Predicate: http://xmlns.com/foaf/0.1/birthPlace\n",
    "- Object: http://example.org/location/Honolulu\n",
    "\n",
    "**Triplet 2**\n",
    "- Extracted_RDF_Set: (Obama, graduated from, Columbia University)\n",
    "- Subject: http://example.org/person/BarackObama\n",
    "- Predicate: http://xmlns.com/foaf/0.1/alumniOf\n",
    "- Object: http://example.org/university/ColumbiaUniversity\n",
    "\n",
    "**Triplet 3**\n",
    "- Extracted_RDF_Set: (Obama, graduated in, 1983)\n",
    "- Subject: http://example.org/person/BarackObama\n",
    "- Predicate: http://example.org/ontology/graduationYear\n",
    "- Object: \"1983\"\n",
    "\n",
    "Ensure to handle dates and numbers appropriately as literals or values in the RDF output.\n",
    "\"\"\"\n",
    "\n",
    "# Print constructed prompt\n",
    "print(f\"Prompt:\\n{prompt}\")"
   ]
  },
  {
   "cell_type": "code",
   "execution_count": null,
   "id": "81acc2d8-d68d-4f42-a073-4a2d51b428ac",
   "metadata": {},
   "outputs": [],
   "source": [
    "# Generate output\n",
    "response = llm.generate([prompt], max_length=1600)"
   ]
  },
  {
   "cell_type": "code",
   "execution_count": 1,
   "id": "7891bd20-afc1-44eb-bf02-eff6fa9f1f4f",
   "metadata": {},
   "outputs": [
    {
     "ename": "NameError",
     "evalue": "name 'response' is not defined",
     "output_type": "error",
     "traceback": [
      "\u001b[1;31m---------------------------------------------------------------------------\u001b[0m",
      "\u001b[1;31mNameError\u001b[0m                                 Traceback (most recent call last)",
      "Cell \u001b[1;32mIn[1], line 2\u001b[0m\n\u001b[0;32m      1\u001b[0m \u001b[38;5;66;03m# Extract generated text\u001b[39;00m\n\u001b[1;32m----> 2\u001b[0m \u001b[38;5;28;01mif\u001b[39;00m \u001b[43mresponse\u001b[49m \u001b[38;5;129;01mand\u001b[39;00m response\u001b[38;5;241m.\u001b[39mgenerations:\n\u001b[0;32m      3\u001b[0m     \u001b[38;5;66;03m# Accessing the text from the first GenerationChunk\u001b[39;00m\n\u001b[0;32m      4\u001b[0m     generated_text \u001b[38;5;241m=\u001b[39m response\u001b[38;5;241m.\u001b[39mgenerations[\u001b[38;5;241m0\u001b[39m][\u001b[38;5;241m0\u001b[39m]\u001b[38;5;241m.\u001b[39mtext\n\u001b[0;32m      5\u001b[0m \u001b[38;5;28;01melse\u001b[39;00m:\n",
      "\u001b[1;31mNameError\u001b[0m: name 'response' is not defined"
     ]
    }
   ],
   "source": [
    "# Extract generated text\n",
    "if response and response.generations:\n",
    "    # Accessing the text from the first GenerationChunk\n",
    "    generated_text = response.generations[0][0].text\n",
    "else:\n",
    "    generated_text = \"No text generated.\""
   ]
  },
  {
   "cell_type": "code",
   "execution_count": 22,
   "id": "99b5e18a-9646-4201-9e15-9d95b82e78bd",
   "metadata": {},
   "outputs": [
    {
     "name": "stdout",
     "output_type": "stream",
     "text": [
      "Generated Summary:\n",
      "Here are the extracted RDF triplets:\n",
      "\n",
      "**Triplet 1**\n",
      "- Extracted_RDF_Set: (Barack Hussein Obama II, was born in, Honolulu)\n",
      "- Subject: http://example.org/person/BarackObamaII\n",
      "- Predicate: http://xmlns.com/foaf/0.1/birthPlace\n",
      "- Object: http://example.org/location/Honolulu\n",
      "\n",
      "**Triplet 2**\n",
      "- Extracted_RDF_Set: (Barack Hussein Obama II, graduated from, Columbia University)\n",
      "- Subject: http://example.org/person/BarackObamaII\n",
      "- Predicate: http://xmlns.com/foaf/0.1/alumniOf\n",
      "- Object: http://example.org/university/ColumbiaUniversity\n",
      "\n",
      "**Triplet 3**\n",
      "- Extracted_RDF_Set: (Barack Hussein Obama II, graduated in, 1983)\n",
      "- Subject: http://example.org/person/BarackObamaII\n",
      "- Predicate: http://example.org/ontology/graduationYear\n",
      "- Object: \"1983\"\n",
      "\n",
      "**Triplet 4**\n",
      "- Extracted_RDF_Set: (Barack Hussein Obama II, served as, President of the United States)\n",
      "- Subject: http://example.org/person/BarackObamaII\n",
      "- Predicate: http://xmlns.com/foaf/0.1/workPosition\n",
      "- Object: http://example.org/government-position/POTUS\n",
      "\n",
      "**Triplet 5**\n",
      "- Extracted_RDF_Set: (Barack Hussein Obama II, served as, U.S. Senator representing Illinois)\n",
      "- Subject: http://example.org/person/BarackObamaII\n",
      "- Predicate: http://xmlns.com/foaf/0.1/workPosition\n",
      "- Object: http://example.org/government-position/USSenator\n",
      "\n",
      "**Triplet 6**\n",
      "- Extracted_RDF_Set: (Barack Hussein Obama II, served as, Illinois State Senator)\n",
      "- Subject: http://example.org/person/BarackObamaII\n",
      "- Predicate: http://xmlns.com/foaf/0.1/workPosition\n",
      "- Object: http://example.org/government-position/IllinoisStateSenator\n",
      "\n",
      "**Triplet 7**\n",
      "- Extracted_RDF_Set: (Barack Hussein Obama II, selected, Joe Biden as running mate)\n",
      "- Subject: http://example.org/person/BarackObamaII\n",
      "- Predicate: http://xmlns.com/foaf/0.1/chosenBy\n",
      "- Object: http://example.org/person/JoeBiden\n",
      "\n",
      "**Triplet 8**\n",
      "- Extracted_RDF_Set: (Barack Hussein Obama II, defeated, John McCain)\n",
      "- Subject: http://example.org/person/BarackObamaII\n",
      "- Predicate: http://xmlns.com/foaf/0.1/followedBy\n",
      "- Object: http://example.org/person/JohnMcCain\n",
      "\n",
      "Note that I used the following URIs and literals:\n",
      "\n",
      "* http://example.org/person/BarackObamaII (subject)\n",
      "* http://example.org/university/ColumbiaUniversity (object)\n",
      "* http://example.org/location/Honolulu (object)\n",
      "* http://example.org/government-position/POTUS (object)\n",
      "* http://example.org/government-position/USSenator (object)\n",
      "* http://example.org/government-position/IllinoisStateSenator (object)\n",
      "* http://example.org/person/JoeBiden (object)\n",
      "* http://example.org/person/JohnMcCain (object)\n"
     ]
    }
   ],
   "source": [
    "# Print generated summary\n",
    "print(f\"Generated Summary:\\n{generated_text}\")"
   ]
  },
  {
   "cell_type": "code",
   "execution_count": null,
   "id": "4934a12a-584e-41ed-b66b-005080587054",
   "metadata": {},
   "outputs": [],
   "source": []
  }
 ],
 "metadata": {
  "kernelspec": {
   "display_name": "Python 3 (ipykernel)",
   "language": "python",
   "name": "python3"
  },
  "language_info": {
   "codemirror_mode": {
    "name": "ipython",
    "version": 3
   },
   "file_extension": ".py",
   "mimetype": "text/x-python",
   "name": "python",
   "nbconvert_exporter": "python",
   "pygments_lexer": "ipython3",
   "version": "3.9.19"
  }
 },
 "nbformat": 4,
 "nbformat_minor": 5
}
