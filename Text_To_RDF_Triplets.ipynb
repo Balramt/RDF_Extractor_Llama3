{
 "cells": [
  {
   "cell_type": "code",
   "execution_count": 1,
   "id": "bb582ca7-18c9-405e-a742-9aaf0ba80333",
   "metadata": {},
   "outputs": [],
   "source": [
    "from langchain.llms import Ollama"
   ]
  },
  {
   "cell_type": "code",
   "execution_count": 2,
   "id": "c0a8427e-40e8-4839-bb72-8862f48d5133",
   "metadata": {},
   "outputs": [],
   "source": [
    "# Configuration\n",
    "LOCAL_MODEL = \"llama3:latest\"\n",
    "RDF_FILEPATH = r\"D:\\New folder\\RDF_Extractor_Llama3\\Barack-Obama.txt\"  # Update this with your Text file path"
   ]
  },
  {
   "cell_type": "code",
   "execution_count": 3,
   "id": "9de2f2b8-a28c-426c-927f-b29e59ff7df6",
   "metadata": {},
   "outputs": [],
   "source": [
    "# Initialize the language model\n",
    "llm = Ollama(base_url=\"http://localhost:11434\", model=LOCAL_MODEL, verbose=True)"
   ]
  },
  {
   "cell_type": "code",
   "execution_count": 5,
   "id": "452a5987-4200-40f5-bafa-30b9ca6334a7",
   "metadata": {},
   "outputs": [
    {
     "name": "stdout",
     "output_type": "stream",
     "text": [
      "Prompt:\n",
      "\n",
      "Here is the RDF data:\n",
      "\n",
      "Barack Hussein Obama II[a] (born August 4, 1961) is an American politician who served as the 44th president of the United States from 2009 to 2017. As a member of the Democratic Party, he was the first African-American president in U.S. history. Obama previously served as a U.S. senator representing Illinois from 2005 to 2008 and as an Illinois state senator from 1997 to 2004.\n",
      "Obama was born in Honolulu, Hawaii. He graduated from Columbia University in 1983 with a Bachelor of Arts degree in political science and later worked as a community organizer in Chicago. In 1988, Obama enrolled in Harvard Law School, where he was the first black president of the Harvard Law Review. He became a civil rights attorney and an academic, teaching constitutional law at the University of Chicago Law School from 1992 to 2004. He also went into elective politics; Obama represented the 13th district in the Illinois Senate from 1997 until 2004, when he successfully ran for the U.S. Senate. In the 2008 presidential election, after a close primary campaign against Hillary Clinton, he was nominated by the Democratic Party for president. Obama selected Joe Biden as his running mate and defeated Republican nominee John McCain.\n",
      "\n",
      "\n",
      "Please parse and extract RDF-like triplets from the text. For each identified triplet, provide the output as a list of tuples.\n",
      "\n",
      "Each tuple should follow the structure:\n",
      "(\"Subject\", \"Predicate\", \"Object\")\n",
      "\n",
      "Guidelines:\n",
      "1. Ensure that each triplet has exactly three components: a subject, a predicate, and an object.\n",
      "2. If the text mentions a fact but lacks one of these components, reformulate it or omit it to ensure the triplet is complete.\n",
      "3. Handle various types of information, including names, locations, dates, and numerical values, in a similar format.\n",
      "\n",
      "Examples:\n",
      "Text: \"Obama was born in Honolulu, Hawaii. He graduated from Columbia University in 1983.\"\n",
      "\n",
      "Output:\n",
      "extracted_triplets = [\n",
      "    (\"Barack Hussein Obama II\", \"was born in\", \"Honolulu, Hawaii\"),\n",
      "    (\"Barack Hussein Obama II\", \"graduated from\", \"Columbia University\"),\n",
      "    (\"Barack Hussein Obama II\", \"graduated in\", \"1983\"),\n",
      "]\n",
      "\n",
      "Text: \"Obama was the first African-American president in U.S. history.\"\n",
      "\n",
      "Output:\n",
      "extracted_triplets = [\n",
      "    (\"Barack Hussein Obama II\", \"was the first African-American president in\", \"U.S. history\"),\n",
      "]\n",
      "\n",
      "Ensure that each extracted triplet is fully formed and logically coherent.\n",
      "\n"
     ]
    }
   ],
   "source": [
    "# Read RDF file content\n",
    "with open(RDF_FILEPATH, 'r') as file:\n",
    "    rdf_data = file.read()\n",
    "\n",
    "# Prompt Construction\n",
    "prompt = f\"\"\"\n",
    "Here is the RDF data:\n",
    "\n",
    "{rdf_data}\n",
    "\n",
    "Please parse and extract RDF-like triplets from the text. For each identified triplet, provide the output as a list of tuples.\n",
    "\n",
    "Each tuple should follow the structure:\n",
    "(\"Subject\", \"Predicate\", \"Object\")\n",
    "\n",
    "Guidelines:\n",
    "1. Ensure that each triplet has exactly three components: a subject, a predicate, and an object.\n",
    "2. If the text mentions a fact but lacks one of these components, reformulate it or omit it to ensure the triplet is complete.\n",
    "3. Handle various types of information, including names, locations, dates, and numerical values, in a similar format.\n",
    "\n",
    "Examples:\n",
    "Text: \"Obama was born in Honolulu, Hawaii. He graduated from Columbia University in 1983.\"\n",
    "\n",
    "Output:\n",
    "extracted_triplets = [\n",
    "    (\"Barack Hussein Obama II\", \"was born in\", \"Honolulu, Hawaii\"),\n",
    "    (\"Barack Hussein Obama II\", \"graduated from\", \"Columbia University\"),\n",
    "    (\"Barack Hussein Obama II\", \"graduated in\", \"1983\"),\n",
    "]\n",
    "\n",
    "Text: \"Obama was the first African-American president in U.S. history.\"\n",
    "\n",
    "Output:\n",
    "extracted_triplets = [\n",
    "    (\"Barack Hussein Obama II\", \"was the first African-American president in\", \"U.S. history\"),\n",
    "]\n",
    "\n",
    "Ensure that each extracted triplet is fully formed and logically coherent.\n",
    "\"\"\"\n",
    "\n",
    "print(f\"Prompt:\\n{prompt}\")\n"
   ]
  },
  {
   "cell_type": "code",
   "execution_count": null,
   "id": "9e3bec76-c66b-41b7-9120-648dc05a9710",
   "metadata": {},
   "outputs": [],
   "source": [
    "# Generate output\n",
    "response = llm.generate([prompt], max_length=1600)"
   ]
  },
  {
   "cell_type": "code",
   "execution_count": 7,
   "id": "9aa36594-8769-42c6-a4a2-8503a587c076",
   "metadata": {},
   "outputs": [],
   "source": [
    "# Extract generated text\n",
    "if response and response.generations:\n",
    "    generated_text = response.generations[0][0].text\n",
    "else:\n",
    "    generated_text = \"No text generated.\""
   ]
  },
  {
   "cell_type": "code",
   "execution_count": 8,
   "id": "e7423d24-33ef-426d-896b-a921730689e0",
   "metadata": {},
   "outputs": [
    {
     "name": "stdout",
     "output_type": "stream",
     "text": [
      "Generated Summary:\n",
      "Here are the extracted triplets:\n",
      "\n",
      "```\n",
      "extracted_triplets = [\n",
      "    (\"Barack Hussein Obama II\", \"was born on\", \"August 4, 1961\"),\n",
      "    (\"Barack Hussein Obama II\", \"served as\", \"44th president of the United States\"),\n",
      "    (\"Barack Hussein Obama II\", \"belonged to\", \"Democratic Party\"),\n",
      "    (\"Barack Hussein Obama II\", \"was the first\", \"African-American president in U.S. history\"),\n",
      "    (\"Barack Hussein Obama II\", \"previously served as\", \"U.S. senator representing Illinois\"),\n",
      "    (\"Barack Hussein Obama II\", \"previously served as\", \"Illinois state senator\"),\n",
      "    (\"Barack Hussein Obama II\", \"graduated from\", \"Columbia University\"),\n",
      "    (\"Barack Hussein Obama II\", \"graduated in\", \"1983\"),\n",
      "    (\"Barack Hussein Obama II\", \"worked as\", \"community organizer in Chicago\"),\n",
      "    (\"Barack Hussein Obama II\", \"enrolled in\", \"Harvard Law School\"),\n",
      "    (\"Barack Hussein Obama II\", \"was the first black president of\", \"Harvard Law Review\"),\n",
      "    (\"Barack Hussein Obama II\", \"became\", \"civil rights attorney and an academic\"),\n",
      "    (\"Barack Hussein Obama II\", \"taught constitutional law at\", \"University of Chicago Law School\"),\n",
      "    (\"Barack Hussein Obama II\", \"represented\", \"13th district in the Illinois Senate\"),\n",
      "    (\"Barack Hussein Obama II\", \"ran for\", \"U.S. Senate\"),\n",
      "    (\"Barack Hussein Obama II\", \"was nominated by\", \"Democratic Party for president\"),\n",
      "    (\"Barack Hussein Obama II\", \"selected as running mate\", \"Joe Biden\"),\n",
      "    (\"Barack Hussein Obama II\", \"defeated\", \"John McCain in the presidential election\")\n",
      "]\n",
      "```\n",
      "\n",
      "Let me know if you'd like me to rephrase any of these triplets based on your requirements!\n"
     ]
    }
   ],
   "source": [
    "# Print generated summary\n",
    "print(f\"Generated Summary:\\n{generated_text}\")"
   ]
  },
  {
   "cell_type": "code",
   "execution_count": 24,
   "id": "cc38222d-ae0a-4a23-b286-a710a17a57eb",
   "metadata": {},
   "outputs": [],
   "source": [
    "# Extracts a list of triplets from the model generated output (text) using regular expressions and evaluates it.\n",
    "import re\n",
    "\n",
    "def extract_triplets(text):\n",
    "    pattern = r'extracted_triplets\\s*=\\s*\\[(.*?)\\]'\n",
    "    match = re.search(pattern, text, re.DOTALL)\n",
    "    \n",
    "    if match:\n",
    "        triplets_str = match.group(1)\n",
    "        extracted_triplets = eval(f'[{triplets_str}]')\n",
    "        \n",
    "        return extracted_triplets\n",
    "    else:\n",
    "        return None\n",
    "\n"
   ]
  },
  {
   "cell_type": "code",
   "execution_count": 25,
   "id": "50d2e965-670e-4e1d-b8f6-ec379d963319",
   "metadata": {},
   "outputs": [
    {
     "name": "stdout",
     "output_type": "stream",
     "text": [
      "[('Barack Hussein Obama II', 'was born on', 'August 4, 1961'), ('Barack Hussein Obama II', 'served as', '44th president of the United States'), ('Barack Hussein Obama II', 'belonged to', 'Democratic Party'), ('Barack Hussein Obama II', 'was the first', 'African-American president in U.S. history'), ('Barack Hussein Obama II', 'previously served as', 'U.S. senator representing Illinois'), ('Barack Hussein Obama II', 'previously served as', 'Illinois state senator'), ('Barack Hussein Obama II', 'graduated from', 'Columbia University'), ('Barack Hussein Obama II', 'graduated in', '1983'), ('Barack Hussein Obama II', 'worked as', 'community organizer in Chicago'), ('Barack Hussein Obama II', 'enrolled in', 'Harvard Law School'), ('Barack Hussein Obama II', 'was the first black president of', 'Harvard Law Review'), ('Barack Hussein Obama II', 'became', 'civil rights attorney and an academic'), ('Barack Hussein Obama II', 'taught constitutional law at', 'University of Chicago Law School'), ('Barack Hussein Obama II', 'represented', '13th district in the Illinois Senate'), ('Barack Hussein Obama II', 'ran for', 'U.S. Senate'), ('Barack Hussein Obama II', 'was nominated by', 'Democratic Party for president'), ('Barack Hussein Obama II', 'selected as running mate', 'Joe Biden'), ('Barack Hussein Obama II', 'defeated', 'John McCain in the presidential election')]\n"
     ]
    }
   ],
   "source": [
    "# Extract the triplets\n",
    "Model_Generated_triplets = extract_triplets(generated_text)\n",
    "print(Model_Generated_triplets)"
   ]
  },
  {
   "cell_type": "code",
   "execution_count": 26,
   "id": "e604914b-0613-4eca-9df1-378a0c2fd816",
   "metadata": {},
   "outputs": [],
   "source": [
    "import requests\n",
    "import json"
   ]
  },
  {
   "cell_type": "code",
   "execution_count": 27,
   "id": "a8292665-9b3a-4067-9762-b421be3e260f",
   "metadata": {},
   "outputs": [],
   "source": [
    " # Sends a POST request to the Falcon 2.0 API with the provided text and handles any request errors.\n",
    "def falcon_request(text):\n",
    "    url = \"https://labs.tib.eu/falcon/falcon2/api?mode=long\"\n",
    "    headers = {\"Content-Type\": \"application/json\"}\n",
    "    data = {\"text\": text}\n",
    "    try:\n",
    "        response = requests.post(url, headers=headers, data=json.dumps(data))\n",
    "        response.raise_for_status()  # Raise an error for bad HTTP status codes\n",
    "        return response.json()\n",
    "    except requests.exceptions.RequestException as e:\n",
    "        print(f\"An error occurred: {e}\")\n",
    "        return None\n"
   ]
  },
  {
   "cell_type": "code",
   "execution_count": 28,
   "id": "7134d98e-93ab-4386-b507-8e7e40f5285a",
   "metadata": {},
   "outputs": [],
   "source": [
    "# Extracts the URI from the response of Falcon 2.0 API\n",
    "def extract_uri(response):\n",
    "    if response:\n",
    "        # Try to get the URI from entities_wikidata first\n",
    "        if 'entities_wikidata' in response and response['entities_wikidata']:\n",
    "            return response['entities_wikidata'][0]['URI']\n",
    "        # If not found, try to get the URI from relations_wikidata\n",
    "        elif 'relations_wikidata' in response and response['relations_wikidata']:\n",
    "            return response['relations_wikidata'][0]['URI']\n",
    "    return None"
   ]
  },
  {
   "cell_type": "code",
   "execution_count": 29,
   "id": "4a71adf8-bcc9-496f-9f13-eae6d6b5b4bf",
   "metadata": {},
   "outputs": [],
   "source": [
    "# Fetches and extracts URIs for the subject, predicate, and object of the given triplet.\n",
    "def process_triplet(triplet):\n",
    "    subject_text, predicate_text, object_text = triplet\n",
    "\n",
    "    # Fetch URIs for subject, predicate, and object\n",
    "    subject_response = falcon_request(subject_text)\n",
    "    predicate_response = falcon_request(predicate_text)\n",
    "    object_response = falcon_request(object_text)\n",
    "\n",
    "    # Extract URIs using the extract_uri function\n",
    "    subject_uri = extract_uri(subject_response)\n",
    "    predicate_uri = extract_uri(predicate_response)\n",
    "    object_uri = extract_uri(object_response)\n",
    "\n",
    "    return {\n",
    "        \"subject\": subject_uri,\n",
    "        \"predicate\": predicate_uri,\n",
    "        \"object\": object_uri\n",
    "    }"
   ]
  },
  {
   "cell_type": "code",
   "execution_count": 30,
   "id": "c825f907-3ba3-476a-bcf7-543eb801e929",
   "metadata": {},
   "outputs": [
    {
     "name": "stdout",
     "output_type": "stream",
     "text": [
      "Triplet 1: ('Barack Hussein Obama II', 'was born on', 'August 4, 1961')\n",
      "Subject: http://www.wikidata.org/entity/Q76\n",
      "Predicate: http://www.wikidata.org/entity/P1464\n",
      "Object: http://www.wikidata.org/entity/Q69285218\n",
      "\n",
      "Triplet 2: ('Barack Hussein Obama II', 'served as', '44th president of the United States')\n",
      "Subject: http://www.wikidata.org/entity/Q76\n",
      "Predicate: http://www.wikidata.org/entity/P179\n",
      "Object: http://www.wikidata.org/entity/Q17595309\n",
      "\n",
      "Triplet 3: ('Barack Hussein Obama II', 'belonged to', 'Democratic Party')\n",
      "Subject: http://www.wikidata.org/entity/Q76\n",
      "Predicate: http://www.wikidata.org/entity/P1001\n",
      "Object: http://www.wikidata.org/entity/Q47729\n",
      "\n",
      "Triplet 4: ('Barack Hussein Obama II', 'was the first', 'African-American president in U.S. history')\n",
      "Subject: http://www.wikidata.org/entity/Q76\n",
      "Predicate: None\n",
      "Object: http://www.wikidata.org/entity/Q429311\n",
      "\n",
      "Triplet 5: ('Barack Hussein Obama II', 'previously served as', 'U.S. senator representing Illinois')\n",
      "Subject: http://www.wikidata.org/entity/Q76\n",
      "Predicate: http://www.wikidata.org/entity/Q15298678\n",
      "Object: http://www.wikidata.org/entity/Q27621695\n",
      "\n",
      "Triplet 6: ('Barack Hussein Obama II', 'previously served as', 'Illinois state senator')\n",
      "Subject: http://www.wikidata.org/entity/Q76\n",
      "Predicate: http://www.wikidata.org/entity/Q15298678\n",
      "Object: http://www.wikidata.org/entity/Q7603534\n",
      "\n",
      "Triplet 7: ('Barack Hussein Obama II', 'graduated from', 'Columbia University')\n",
      "Subject: http://www.wikidata.org/entity/Q76\n",
      "Predicate: http://www.wikidata.org/entity/P69\n",
      "Object: http://www.wikidata.org/entity/Q49088\n",
      "\n",
      "Triplet 8: ('Barack Hussein Obama II', 'graduated in', '1983')\n",
      "Subject: http://www.wikidata.org/entity/Q76\n",
      "Predicate: http://www.wikidata.org/entity/P69\n",
      "Object: http://www.wikidata.org/entity/Q2434\n",
      "\n",
      "Triplet 9: ('Barack Hussein Obama II', 'worked as', 'community organizer in Chicago')\n",
      "Subject: http://www.wikidata.org/entity/Q76\n",
      "Predicate: http://www.wikidata.org/entity/P1433\n",
      "Object: http://www.wikidata.org/entity/Q28532974\n",
      "\n",
      "Triplet 10: ('Barack Hussein Obama II', 'enrolled in', 'Harvard Law School')\n",
      "Subject: http://www.wikidata.org/entity/Q76\n",
      "Predicate: http://www.wikidata.org/entity/P236\n",
      "Object: http://www.wikidata.org/entity/Q49122\n",
      "\n",
      "Triplet 11: ('Barack Hussein Obama II', 'was the first black president of', 'Harvard Law Review')\n",
      "Subject: http://www.wikidata.org/entity/Q76\n",
      "Predicate: http://www.wikidata.org/entity/Q4921502\n",
      "Object: http://www.wikidata.org/entity/Q1365125\n",
      "\n",
      "Triplet 12: ('Barack Hussein Obama II', 'became', 'civil rights attorney and an academic')\n",
      "Subject: http://www.wikidata.org/entity/Q76\n",
      "Predicate: http://www.wikidata.org/entity/Q83522\n",
      "Object: http://www.wikidata.org/entity/Q103882882\n",
      "\n",
      "Triplet 13: ('Barack Hussein Obama II', 'taught constitutional law at', 'University of Chicago Law School')\n",
      "Subject: http://www.wikidata.org/entity/Q76\n",
      "Predicate: http://www.wikidata.org/entity/Q11206\n",
      "Object: http://www.wikidata.org/entity/Q1036763\n",
      "\n",
      "Triplet 14: ('Barack Hussein Obama II', 'represented', '13th district in the Illinois Senate')\n",
      "Subject: http://www.wikidata.org/entity/Q76\n",
      "Predicate: http://www.wikidata.org/entity/Q500594\n",
      "Object: http://www.wikidata.org/entity/Q72615475\n",
      "\n",
      "Triplet 15: ('Barack Hussein Obama II', 'ran for', 'U.S. Senate')\n",
      "Subject: http://www.wikidata.org/entity/Q76\n",
      "Predicate: http://www.wikidata.org/entity/P21\n",
      "Object: http://www.wikidata.org/entity/Q215987\n",
      "\n",
      "Triplet 16: ('Barack Hussein Obama II', 'was nominated by', 'Democratic Party for president')\n",
      "Subject: http://www.wikidata.org/entity/Q76\n",
      "Predicate: http://www.wikidata.org/entity/P1411\n",
      "Object: http://www.wikidata.org/entity/Q11547841\n",
      "\n",
      "Triplet 17: ('Barack Hussein Obama II', 'selected as running mate', 'Joe Biden')\n",
      "Subject: http://www.wikidata.org/entity/Q76\n",
      "Predicate: http://www.wikidata.org/entity/P1932\n",
      "Object: http://www.wikidata.org/entity/Q6279\n",
      "\n",
      "Triplet 18: ('Barack Hussein Obama II', 'defeated', 'John McCain in the presidential election')\n",
      "Subject: http://www.wikidata.org/entity/Q76\n",
      "Predicate: http://www.wikidata.org/entity/Q503476\n",
      "Object: http://www.wikidata.org/entity/Q7019777\n",
      "\n"
     ]
    }
   ],
   "source": [
    "triplet_uris = []\n",
    "\n",
    "for i, triplet in enumerate(triplets, start=1):\n",
    "    uris = process_triplet(triplet)\n",
    "    triplet_uris.append(uris)\n",
    "\n",
    "    # Print the results in the desired format\n",
    "    print(f\"Triplet {i}: {triplet}\")\n",
    "    print(f\"Subject: {uris['subject']}\")\n",
    "    print(f\"Predicate: {uris['predicate']}\")\n",
    "    print(f\"Object: {uris['object']}\")\n",
    "    print()"
   ]
  },
  {
   "cell_type": "code",
   "execution_count": null,
   "id": "111e4e86-6a78-4879-ad4a-81d8101239de",
   "metadata": {},
   "outputs": [],
   "source": []
  }
 ],
 "metadata": {
  "kernelspec": {
   "display_name": "Python 3 (ipykernel)",
   "language": "python",
   "name": "python3"
  },
  "language_info": {
   "codemirror_mode": {
    "name": "ipython",
    "version": 3
   },
   "file_extension": ".py",
   "mimetype": "text/x-python",
   "name": "python",
   "nbconvert_exporter": "python",
   "pygments_lexer": "ipython3",
   "version": "3.9.19"
  }
 },
 "nbformat": 4,
 "nbformat_minor": 5
}
