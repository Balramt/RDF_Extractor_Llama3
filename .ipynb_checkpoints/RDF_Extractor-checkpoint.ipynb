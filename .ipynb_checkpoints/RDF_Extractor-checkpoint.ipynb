{
 "cells": [
  {
   "cell_type": "code",
   "execution_count": 9,
   "id": "98f17ccc-3b22-417d-a61b-0071aa7a28f0",
   "metadata": {},
   "outputs": [],
   "source": [
    "from langchain.llms import Ollama"
   ]
  },
  {
   "cell_type": "code",
   "execution_count": 10,
   "id": "e9dbe09f-5998-4f40-9d4f-f2d6d70116dc",
   "metadata": {},
   "outputs": [],
   "source": [
    "# Configuration\n",
    "LOCAL_MODEL = \"llama3:latest\"\n",
    "RDF_FILEPATH = r\"D:\\New folder\\people.rdf\"  # Update this with your RDF file path"
   ]
  },
  {
   "cell_type": "code",
   "execution_count": 11,
   "id": "66d05cb4-af7a-443e-bad0-ea0e5410ff99",
   "metadata": {},
   "outputs": [],
   "source": [
    "# Initialize the language model\n",
    "llm = Ollama(base_url=\"http://localhost:11434\", model=LOCAL_MODEL, verbose=True)"
   ]
  },
  {
   "cell_type": "code",
   "execution_count": 12,
   "id": "246376e9-162a-42bc-9d3b-ba6993ab2cca",
   "metadata": {},
   "outputs": [
    {
     "name": "stdout",
     "output_type": "stream",
     "text": [
      "Prompt:\n",
      "\n",
      "Here is the RDF data:\n",
      "\n",
      "<?xml version=\"1.0\" encoding=\"UTF-8\"?>\n",
      "<rdf:RDF xmlns:rdf=\"http://www.w3.org/1999/02/22-rdf-syntax-ns#\"\n",
      "         xmlns:foaf=\"http://xmlns.com/foaf/0.1/\">\n",
      "\n",
      "  <!-- Define a person -->\n",
      "  <rdf:Description rdf:about=\"http://example.org/person/1\">\n",
      "    <foaf:name>Alice</foaf:name>\n",
      "    <foaf:age>30</foaf:age>\n",
      "    <foaf:mbox rdf:resource=\"mailto:alice@example.com\"/>\n",
      "  </rdf:Description>\n",
      "\n",
      "  <!-- Define another person -->\n",
      "  <rdf:Description rdf:about=\"http://example.org/person/2\">\n",
      "    <foaf:name>Bob</foaf:name>\n",
      "    <foaf:age>25</foaf:age>\n",
      "    <foaf:mbox rdf:resource=\"mailto:bob@example.com\"/>\n",
      "  </rdf:Description>\n",
      "\n",
      "</rdf:RDF>\n",
      "\n",
      "\n",
      "Please parse and format the output as follows:\n",
      "1. For each triplet, provide:\n",
      "   - The subject and its value\n",
      "   - The predicate and its value\n",
      "   - The object and its name or value\n",
      "\n",
      "\n",
      "Must print the output as per FOAF vocabulary like below and replace the value for each triplet\n",
      "- Subject: http://example.org/person/2, Predicate: http://xmlns.com/foaf/0.1/mbox, Object: mailto:bob@example.com\n",
      "\n",
      "Can you provide a summary of the information above? Also, write a heading for the RDF you are processing below. Fetch the subject, predicate, and object from the RDF data and format the output accordingly.\n",
      "\n"
     ]
    }
   ],
   "source": [
    "# Read RDF file content\n",
    "with open(RDF_FILEPATH, 'r') as file:\n",
    "    rdf_data = file.read()\n",
    "\n",
    "# Construct the prompt\n",
    "prompt = f\"\"\"\n",
    "Here is the RDF data: \n",
    "\n",
    "{rdf_data}\n",
    "\n",
    "Please parse and format the output as follows:\n",
    "1. For each triplet, provide:\n",
    "   - The subject and its value\n",
    "   - The predicate and its value\n",
    "   - The object and its name or value\n",
    "\n",
    "\n",
    "Must print the output as per FOAF vocabulary like below and replace the value for each triplet\n",
    "- Subject: http://example.org/person/2, Predicate: http://xmlns.com/foaf/0.1/mbox, Object: mailto:bob@example.com\n",
    "\n",
    "Can you provide a summary of the information above? Also, write a heading for the RDF you are processing below. Fetch the subject, predicate, and object from the RDF data and format the output accordingly.\n",
    "\"\"\"\n",
    "\n",
    "# Print constructed prompt\n",
    "print(f\"Prompt:\\n{prompt}\")"
   ]
  },
  {
   "cell_type": "code",
   "execution_count": 13,
   "id": "847ff167-c7a8-4424-bc52-0ac38c21058d",
   "metadata": {},
   "outputs": [],
   "source": [
    "# Generate output\n",
    "response = llm.generate([prompt], max_length=800)"
   ]
  },
  {
   "cell_type": "code",
   "execution_count": 14,
   "id": "f5e5fe1f-77de-4e11-95dc-d0b2d4ed2f3f",
   "metadata": {},
   "outputs": [],
   "source": [
    "# Extract generated text\n",
    "if response and response.generations:\n",
    "    # Accessing the text from the first GenerationChunk\n",
    "    generated_text = response.generations[0][0].text\n",
    "else:\n",
    "    generated_text = \"No text generated.\""
   ]
  },
  {
   "cell_type": "code",
   "execution_count": 15,
   "id": "b6062f7f-9883-446d-9e57-6934253b0a92",
   "metadata": {},
   "outputs": [
    {
     "name": "stdout",
     "output_type": "stream",
     "text": [
      "Generated Summary:\n",
      "**FOAF Vocabulary Data**\n",
      "\n",
      "The provided RDF data defines two persons with their respective attributes. Here's a summary:\n",
      "\n",
      "* The data is an RDF (Resource Description Framework) file that uses the FOAF (Friend of a Friend) vocabulary to describe people and their characteristics.\n",
      "\n",
      "Here are the triplets parsed from the RDF data, formatted according to your request:\n",
      "\n",
      "**Triplet 1**\n",
      "- Subject: http://example.org/person/1\n",
      "- Predicate: http://xmlns.com/foaf/0.1/name\n",
      "- Object: Alice\n",
      "\n",
      "**Triplet 2**\n",
      "- Subject: http://example.org/person/1\n",
      "- Predicate: http://xmlns.com/foaf/0.1/age\n",
      "- Object: 30\n",
      "\n",
      "**Triplet 3**\n",
      "- Subject: http://example.org/person/1\n",
      "- Predicate: http://xmlns.com/foaf/0.1/mbox\n",
      "- Object: mailto:alice@example.com\n",
      "\n",
      "**Triplet 4**\n",
      "- Subject: http://example.org/person/2\n",
      "- Predicate: http://xmlns.com/foaf/0.1/name\n",
      "- Object: Bob\n",
      "\n",
      "**Triplet 5**\n",
      "- Subject: http://example.org/person/2\n",
      "- Predicate: http://xmlns.com/foaf/0.1/age\n",
      "- Object: 25\n",
      "\n",
      "**Triplet 6**\n",
      "- Subject: http://example.org/person/2\n",
      "- Predicate: http://xmlns.com/foaf/0.1/mbox\n",
      "- Object: mailto:bob@example.com\n"
     ]
    }
   ],
   "source": [
    "# Print generated summary\n",
    "print(f\"Generated Summary:\\n{generated_text}\")"
   ]
  },
  {
   "cell_type": "code",
   "execution_count": null,
   "id": "64931309-ea48-44da-9055-29661970bfbf",
   "metadata": {},
   "outputs": [],
   "source": []
  }
 ],
 "metadata": {
  "kernelspec": {
   "display_name": "Python 3 (ipykernel)",
   "language": "python",
   "name": "python3"
  },
  "language_info": {
   "codemirror_mode": {
    "name": "ipython",
    "version": 3
   },
   "file_extension": ".py",
   "mimetype": "text/x-python",
   "name": "python",
   "nbconvert_exporter": "python",
   "pygments_lexer": "ipython3",
   "version": "3.9.19"
  }
 },
 "nbformat": 4,
 "nbformat_minor": 5
}
